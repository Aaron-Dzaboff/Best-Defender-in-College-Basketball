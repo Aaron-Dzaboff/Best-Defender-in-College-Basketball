{
 "cells": [
  {
   "cell_type": "markdown",
   "metadata": {},
   "source": [
    "# Determining Who is the Best Defender in College Basketball"
   ]
  },
  {
   "cell_type": "markdown",
   "metadata": {},
   "source": [
    "### By: Aaron Dzaboff"
   ]
  },
  {
   "cell_type": "markdown",
   "metadata": {},
   "source": [
    "## Prerequisite Packages"
   ]
  },
  {
   "cell_type": "code",
   "execution_count": 1,
   "metadata": {},
   "outputs": [],
   "source": [
    "# ! pip install -U scikit-learn\n",
    "# ! pip install pandas\n",
    "# ! python -m pip install -U matplotlib"
   ]
  },
  {
   "cell_type": "markdown",
   "metadata": {},
   "source": [
    "## Importing Modules"
   ]
  },
  {
   "cell_type": "code",
   "execution_count": 2,
   "metadata": {},
   "outputs": [],
   "source": [
    "#Importing necessary packages\n",
    "import pandas as pd\n",
    "from sklearn.cluster import KMeans\n",
    "import matplotlib.pyplot as plt\n",
    "%matplotlib inline \n",
    "from sklearn.ensemble import ExtraTreesClassifier"
   ]
  },
  {
   "cell_type": "markdown",
   "metadata": {},
   "source": [
    "## Creating a Pandas Dataframe"
   ]
  },
  {
   "cell_type": "code",
   "execution_count": 3,
   "metadata": {},
   "outputs": [
    {
     "data": {
      "text/html": [
       "<div>\n",
       "<style scoped>\n",
       "    .dataframe tbody tr th:only-of-type {\n",
       "        vertical-align: middle;\n",
       "    }\n",
       "\n",
       "    .dataframe tbody tr th {\n",
       "        vertical-align: top;\n",
       "    }\n",
       "\n",
       "    .dataframe thead th {\n",
       "        text-align: right;\n",
       "    }\n",
       "</style>\n",
       "<table border=\"1\" class=\"dataframe\">\n",
       "  <thead>\n",
       "    <tr style=\"text-align: right;\">\n",
       "      <th></th>\n",
       "      <th>Name</th>\n",
       "      <th>College</th>\n",
       "      <th>Position</th>\n",
       "      <th>Defensive_Rating</th>\n",
       "      <th>Height</th>\n",
       "      <th>Weight</th>\n",
       "      <th>MPG</th>\n",
       "      <th>DRB_perc</th>\n",
       "      <th>STL_perc</th>\n",
       "      <th>BLK_perc</th>\n",
       "      <th>DWS</th>\n",
       "      <th>DBPM</th>\n",
       "      <th>Unnamed: 12</th>\n",
       "    </tr>\n",
       "  </thead>\n",
       "  <tbody>\n",
       "    <tr>\n",
       "      <th>0</th>\n",
       "      <td>Ayo Dosunmu</td>\n",
       "      <td>Illinois</td>\n",
       "      <td>Guard</td>\n",
       "      <td>102.2</td>\n",
       "      <td>77.165354</td>\n",
       "      <td>182.98346</td>\n",
       "      <td>32.3</td>\n",
       "      <td>12.9</td>\n",
       "      <td>2.3</td>\n",
       "      <td>0.9</td>\n",
       "      <td>1.0</td>\n",
       "      <td>1.1</td>\n",
       "      <td>NaN</td>\n",
       "    </tr>\n",
       "    <tr>\n",
       "      <th>1</th>\n",
       "      <td>Andres Feliz</td>\n",
       "      <td>Illinois</td>\n",
       "      <td>Guard</td>\n",
       "      <td>101.2</td>\n",
       "      <td>74.015748</td>\n",
       "      <td>182.98346</td>\n",
       "      <td>25.1</td>\n",
       "      <td>12.5</td>\n",
       "      <td>2.5</td>\n",
       "      <td>0.2</td>\n",
       "      <td>0.7</td>\n",
       "      <td>1.2</td>\n",
       "      <td>NaN</td>\n",
       "    </tr>\n",
       "    <tr>\n",
       "      <th>2</th>\n",
       "      <td>Trent Frazier</td>\n",
       "      <td>Illinois</td>\n",
       "      <td>Guard</td>\n",
       "      <td>97.5</td>\n",
       "      <td>72.834646</td>\n",
       "      <td>169.75574</td>\n",
       "      <td>29.2</td>\n",
       "      <td>6.8</td>\n",
       "      <td>1.6</td>\n",
       "      <td>0.0</td>\n",
       "      <td>1.0</td>\n",
       "      <td>1.8</td>\n",
       "      <td>NaN</td>\n",
       "    </tr>\n",
       "    <tr>\n",
       "      <th>3</th>\n",
       "      <td>Giorgi Bezhanishvili</td>\n",
       "      <td>Illinois</td>\n",
       "      <td>Forward</td>\n",
       "      <td>103.1</td>\n",
       "      <td>81.102362</td>\n",
       "      <td>233.68972</td>\n",
       "      <td>25.3</td>\n",
       "      <td>13.8</td>\n",
       "      <td>1.4</td>\n",
       "      <td>3.4</td>\n",
       "      <td>0.8</td>\n",
       "      <td>1.3</td>\n",
       "      <td>NaN</td>\n",
       "    </tr>\n",
       "    <tr>\n",
       "      <th>4</th>\n",
       "      <td>Alan Griffin</td>\n",
       "      <td>Illinois</td>\n",
       "      <td>Guard</td>\n",
       "      <td>99.2</td>\n",
       "      <td>77.165354</td>\n",
       "      <td>178.57422</td>\n",
       "      <td>11.0</td>\n",
       "      <td>16.1</td>\n",
       "      <td>1.2</td>\n",
       "      <td>1.7</td>\n",
       "      <td>0.6</td>\n",
       "      <td>0.9</td>\n",
       "      <td>NaN</td>\n",
       "    </tr>\n",
       "  </tbody>\n",
       "</table>\n",
       "</div>"
      ],
      "text/plain": [
       "                   Name   College Position  Defensive_Rating     Height  \\\n",
       "0           Ayo Dosunmu  Illinois    Guard             102.2  77.165354   \n",
       "1          Andres Feliz  Illinois    Guard             101.2  74.015748   \n",
       "2         Trent Frazier  Illinois    Guard              97.5  72.834646   \n",
       "3  Giorgi Bezhanishvili  Illinois  Forward             103.1  81.102362   \n",
       "4          Alan Griffin  Illinois    Guard              99.2  77.165354   \n",
       "\n",
       "      Weight   MPG  DRB_perc  STL_perc  BLK_perc  DWS  DBPM  Unnamed: 12  \n",
       "0  182.98346  32.3      12.9       2.3       0.9  1.0   1.1          NaN  \n",
       "1  182.98346  25.1      12.5       2.5       0.2  0.7   1.2          NaN  \n",
       "2  169.75574  29.2       6.8       1.6       0.0  1.0   1.8          NaN  \n",
       "3  233.68972  25.3      13.8       1.4       3.4  0.8   1.3          NaN  \n",
       "4  178.57422  11.0      16.1       1.2       1.7  0.6   0.9          NaN  "
      ]
     },
     "execution_count": 3,
     "metadata": {},
     "output_type": "execute_result"
    }
   ],
   "source": [
    "df = pd.read_excel(r\"C:\\Users\\aaron\\OneDrive\\Documents\\Indiana Pacers Project\\Defensive Dataset.xlsx\")\n",
    "df.head()"
   ]
  },
  {
   "cell_type": "code",
   "execution_count": 4,
   "metadata": {},
   "outputs": [
    {
     "name": "stdout",
     "output_type": "stream",
     "text": [
      "<class 'pandas.core.frame.DataFrame'>\n",
      "RangeIndex: 958 entries, 0 to 957\n",
      "Data columns (total 12 columns):\n",
      " #   Column            Non-Null Count  Dtype  \n",
      "---  ------            --------------  -----  \n",
      " 0   Name              958 non-null    object \n",
      " 1   College           958 non-null    object \n",
      " 2   Position          958 non-null    object \n",
      " 3   Defensive_Rating  958 non-null    float64\n",
      " 4   Height            958 non-null    float64\n",
      " 5   Weight            958 non-null    float64\n",
      " 6   MPG               958 non-null    float64\n",
      " 7   DRB_perc          958 non-null    float64\n",
      " 8   STL_perc          958 non-null    float64\n",
      " 9   BLK_perc          958 non-null    float64\n",
      " 10  DWS               958 non-null    float64\n",
      " 11  DBPM              958 non-null    float64\n",
      "dtypes: float64(9), object(3)\n",
      "memory usage: 89.9+ KB\n"
     ]
    }
   ],
   "source": [
    "#Dropping the unnamed 12 columns\n",
    "df.drop(df.columns[df.columns.str.contains('unnamed',case = False)],axis = 1, inplace = True)\n",
    "df.info()"
   ]
  },
  {
   "cell_type": "markdown",
   "metadata": {},
   "source": [
    "## Explanation of the Variables and Dataset"
   ]
  },
  {
   "cell_type": "markdown",
   "metadata": {},
   "source": [
    "The dataset consists of college basketball players in the Big Ten, Big 12, ACC, SEC, Pac 12, and Big East conferences for the 2019-2020 season. \n",
    "\n",
    "Source: https://www.sports-reference.com/cbb/"
   ]
  },
  {
   "cell_type": "markdown",
   "metadata": {},
   "source": [
    "- Defensive Rating - shows how many points a player allows per 100 possessions\n",
    "    - Defensive Rating is different from the plus/minus measurements. The plus/minus stat accounts for all points scored against the team while a specific player is on the court. Whereas the Defensive Rating stat accounts for only the points/buckets that were scored as a result of a specific player’s defensive lapse.\n",
    "\n",
    "- Height - a player's height measured in inches\n",
    "\n",
    "- Weight - a player's weight measured in pounds\n",
    "\n",
    "- MPG - a player's minutes per game\n",
    "\n",
    "- DRB_perc - the percentage of available defensive rebounds that a player collects while he's on the court\n",
    "\n",
    "- STL_perc - the percentage of an opponent's possessions that end up with the player in question stealing the ball away and starting the ensuing offensive possession, provided that he's on the court for the possession\n",
    "\n",
    "- BLK_perc - the percentage of an opponent's two-point attempts that end up with the player in question blocking a shot\n",
    "\n",
    "- DWS - Defensive Win Shares; an estimate of the number of wins contributed by a player due to his defense\n",
    "\n",
    "- DBPM - Box Plus/Minus; A box score estimate of the points per 100 possessions a player contributed above a league-average player, translated to an average team\n",
    "\n",
    "Source: https://bleacherreport.com/articles/1040309-understanding-the-nba-explaining-advanced-defensive-stats-and-metrics#slide5"
   ]
  },
  {
   "cell_type": "markdown",
   "metadata": {},
   "source": [
    "## Modeling with K Means Clustering"
   ]
  },
  {
   "cell_type": "code",
   "execution_count": 5,
   "metadata": {},
   "outputs": [],
   "source": [
    "df_sub = df[[\"Defensive_Rating\",\"MPG\",\"DRB_perc\",\"STL_perc\",\"BLK_perc\",\"DWS\",\"DBPM\"]]"
   ]
  },
  {
   "cell_type": "markdown",
   "metadata": {},
   "source": [
    "### Determining the optimal number of clusters using the Elbow Method"
   ]
  },
  {
   "cell_type": "code",
   "execution_count": 6,
   "metadata": {},
   "outputs": [
    {
     "data": {
      "image/png": "[encoded data removed]",
      "text/plain": [
       "<Figure size 1152x576 with 1 Axes>"
      ]
     },
     "metadata": {
      "needs_background": "light"
     },
     "output_type": "display_data"
    }
   ],
   "source": [
    "distortions = []\n",
    "K = range(1,10)\n",
    "for k in K:\n",
    "    kmeanModel = KMeans(n_clusters=k)\n",
    "    kmeanModel.fit(df_sub)\n",
    "    distortions.append(kmeanModel.inertia_)\n",
    "\n",
    "plt.figure(figsize=(16,8))\n",
    "plt.plot(K, distortions, 'bx-')\n",
    "plt.xlabel('k')\n",
    "plt.ylabel('Distortion')\n",
    "plt.title('The Elbow Method showing the optimal k')\n",
    "plt.show()"
   ]
  },
  {
   "cell_type": "markdown",
   "metadata": {},
   "source": [
    "The elbow method calculates the sum of squared distances from each point to its assigned center(distortions).\n",
    "\n",
    "When the distortions are plotted and the plot looks like an arm then the “elbow”(the point of inflection on the curve) is the best value of k.\n",
    "\n",
    "In this case the optimal value of clusters is 3.\n",
    "\n",
    "(From: https://predictivehacks.com/k-means-elbow-method-code-for-python/)"
   ]
  },
  {
   "cell_type": "code",
   "execution_count": 7,
   "metadata": {},
   "outputs": [],
   "source": [
    "kmeans = KMeans(n_clusters=3, random_state=1)"
   ]
  },
  {
   "cell_type": "code",
   "execution_count": 8,
   "metadata": {},
   "outputs": [
    {
     "data": {
      "text/plain": [
       "KMeans(algorithm='auto', copy_x=True, init='k-means++', max_iter=300,\n",
       "       n_clusters=3, n_init=10, n_jobs=None, precompute_distances='auto',\n",
       "       random_state=1, tol=0.0001, verbose=0)"
      ]
     },
     "execution_count": 8,
     "metadata": {},
     "output_type": "execute_result"
    }
   ],
   "source": [
    "#Fitting the  model\n",
    "kmeans.fit(df_sub)"
   ]
  },
  {
   "cell_type": "code",
   "execution_count": 9,
   "metadata": {},
   "outputs": [],
   "source": [
    "centroids = kmeans.cluster_centers_  #store the values of centroids"
   ]
  },
  {
   "cell_type": "code",
   "execution_count": 10,
   "metadata": {},
   "outputs": [],
   "source": [
    "labels = kmeans.labels_     #store the value of the labels"
   ]
  },
  {
   "cell_type": "code",
   "execution_count": 11,
   "metadata": {},
   "outputs": [
    {
     "data": {
      "text/html": [
       "<div>\n",
       "<style scoped>\n",
       "    .dataframe tbody tr th:only-of-type {\n",
       "        vertical-align: middle;\n",
       "    }\n",
       "\n",
       "    .dataframe tbody tr th {\n",
       "        vertical-align: top;\n",
       "    }\n",
       "\n",
       "    .dataframe thead th {\n",
       "        text-align: right;\n",
       "    }\n",
       "</style>\n",
       "<table border=\"1\" class=\"dataframe\">\n",
       "  <thead>\n",
       "    <tr style=\"text-align: right;\">\n",
       "      <th></th>\n",
       "      <th>Name</th>\n",
       "      <th>College</th>\n",
       "      <th>Position</th>\n",
       "      <th>Defensive_Rating</th>\n",
       "      <th>Height</th>\n",
       "      <th>Weight</th>\n",
       "      <th>MPG</th>\n",
       "      <th>DRB_perc</th>\n",
       "      <th>STL_perc</th>\n",
       "      <th>BLK_perc</th>\n",
       "      <th>DWS</th>\n",
       "      <th>DBPM</th>\n",
       "      <th>label</th>\n",
       "    </tr>\n",
       "  </thead>\n",
       "  <tbody>\n",
       "    <tr>\n",
       "      <th>879</th>\n",
       "      <td>Yves Pons</td>\n",
       "      <td>Tennessee</td>\n",
       "      <td>Guard</td>\n",
       "      <td>97.4</td>\n",
       "      <td>77.952756</td>\n",
       "      <td>207.23428</td>\n",
       "      <td>15.3</td>\n",
       "      <td>11.4</td>\n",
       "      <td>0.9</td>\n",
       "      <td>6.4</td>\n",
       "      <td>2.1</td>\n",
       "      <td>4.7</td>\n",
       "      <td>2</td>\n",
       "    </tr>\n",
       "    <tr>\n",
       "      <th>496</th>\n",
       "      <td>Jordan Brown</td>\n",
       "      <td>Arizona</td>\n",
       "      <td>Forward</td>\n",
       "      <td>92.8</td>\n",
       "      <td>83.070866</td>\n",
       "      <td>209.43890</td>\n",
       "      <td>10.1</td>\n",
       "      <td>17.5</td>\n",
       "      <td>1.7</td>\n",
       "      <td>5.5</td>\n",
       "      <td>0.8</td>\n",
       "      <td>5.0</td>\n",
       "      <td>2</td>\n",
       "    </tr>\n",
       "    <tr>\n",
       "      <th>14</th>\n",
       "      <td>Xavier Tillman</td>\n",
       "      <td>Michigan State</td>\n",
       "      <td>Forward</td>\n",
       "      <td>87.2</td>\n",
       "      <td>79.921260</td>\n",
       "      <td>244.71282</td>\n",
       "      <td>31.3</td>\n",
       "      <td>21.1</td>\n",
       "      <td>2.1</td>\n",
       "      <td>7.3</td>\n",
       "      <td>5.2</td>\n",
       "      <td>8.6</td>\n",
       "      <td>1</td>\n",
       "    </tr>\n",
       "    <tr>\n",
       "      <th>546</th>\n",
       "      <td>Juhwan Harris-Dyson</td>\n",
       "      <td>Cal</td>\n",
       "      <td>Guard</td>\n",
       "      <td>109.4</td>\n",
       "      <td>77.165354</td>\n",
       "      <td>202.82504</td>\n",
       "      <td>17.1</td>\n",
       "      <td>11.3</td>\n",
       "      <td>3.1</td>\n",
       "      <td>1.7</td>\n",
       "      <td>0.9</td>\n",
       "      <td>1.3</td>\n",
       "      <td>1</td>\n",
       "    </tr>\n",
       "    <tr>\n",
       "      <th>55</th>\n",
       "      <td>Joshua Tomaic</td>\n",
       "      <td>Maryland</td>\n",
       "      <td>Forward</td>\n",
       "      <td>102.9</td>\n",
       "      <td>81.102362</td>\n",
       "      <td>233.68972</td>\n",
       "      <td>6.2</td>\n",
       "      <td>13.7</td>\n",
       "      <td>0.0</td>\n",
       "      <td>3.1</td>\n",
       "      <td>0.5</td>\n",
       "      <td>1.5</td>\n",
       "      <td>0</td>\n",
       "    </tr>\n",
       "    <tr>\n",
       "      <th>785</th>\n",
       "      <td>Marlon Taylor</td>\n",
       "      <td>LSU</td>\n",
       "      <td>Guard</td>\n",
       "      <td>104.7</td>\n",
       "      <td>77.165354</td>\n",
       "      <td>209.43890</td>\n",
       "      <td>22.8</td>\n",
       "      <td>11.6</td>\n",
       "      <td>1.7</td>\n",
       "      <td>1.2</td>\n",
       "      <td>1.2</td>\n",
       "      <td>1.4</td>\n",
       "      <td>1</td>\n",
       "    </tr>\n",
       "    <tr>\n",
       "      <th>202</th>\n",
       "      <td>Obim Okeke</td>\n",
       "      <td>Baylor</td>\n",
       "      <td>Guard</td>\n",
       "      <td>97.2</td>\n",
       "      <td>72.834646</td>\n",
       "      <td>224.87124</td>\n",
       "      <td>3.4</td>\n",
       "      <td>12.8</td>\n",
       "      <td>3.4</td>\n",
       "      <td>0.0</td>\n",
       "      <td>0.1</td>\n",
       "      <td>0.5</td>\n",
       "      <td>0</td>\n",
       "    </tr>\n",
       "    <tr>\n",
       "      <th>566</th>\n",
       "      <td>Alfred Hollins</td>\n",
       "      <td>Oregon State</td>\n",
       "      <td>Forward</td>\n",
       "      <td>104.0</td>\n",
       "      <td>77.952756</td>\n",
       "      <td>194.00656</td>\n",
       "      <td>18.2</td>\n",
       "      <td>15.0</td>\n",
       "      <td>1.8</td>\n",
       "      <td>1.4</td>\n",
       "      <td>1.8</td>\n",
       "      <td>0.1</td>\n",
       "      <td>1</td>\n",
       "    </tr>\n",
       "    <tr>\n",
       "      <th>940</th>\n",
       "      <td>Franco Miller Jr</td>\n",
       "      <td>Ole Miss</td>\n",
       "      <td>Guard</td>\n",
       "      <td>104.2</td>\n",
       "      <td>74.015748</td>\n",
       "      <td>200.62042</td>\n",
       "      <td>9.1</td>\n",
       "      <td>13.1</td>\n",
       "      <td>0.5</td>\n",
       "      <td>0.0</td>\n",
       "      <td>0.1</td>\n",
       "      <td>0.5</td>\n",
       "      <td>0</td>\n",
       "    </tr>\n",
       "    <tr>\n",
       "      <th>299</th>\n",
       "      <td>Pierson McAtee</td>\n",
       "      <td>Kansas State</td>\n",
       "      <td>Forward</td>\n",
       "      <td>95.2</td>\n",
       "      <td>77.952756</td>\n",
       "      <td>198.41580</td>\n",
       "      <td>2.2</td>\n",
       "      <td>22.7</td>\n",
       "      <td>1.5</td>\n",
       "      <td>2.2</td>\n",
       "      <td>0.2</td>\n",
       "      <td>0.6</td>\n",
       "      <td>2</td>\n",
       "    </tr>\n",
       "  </tbody>\n",
       "</table>\n",
       "</div>"
      ],
      "text/plain": [
       "                    Name         College Position  Defensive_Rating  \\\n",
       "879            Yves Pons       Tennessee    Guard              97.4   \n",
       "496         Jordan Brown         Arizona  Forward              92.8   \n",
       "14        Xavier Tillman  Michigan State  Forward              87.2   \n",
       "546  Juhwan Harris-Dyson             Cal    Guard             109.4   \n",
       "55         Joshua Tomaic        Maryland  Forward             102.9   \n",
       "785        Marlon Taylor             LSU    Guard             104.7   \n",
       "202           Obim Okeke          Baylor    Guard              97.2   \n",
       "566       Alfred Hollins    Oregon State  Forward             104.0   \n",
       "940     Franco Miller Jr        Ole Miss    Guard             104.2   \n",
       "299       Pierson McAtee    Kansas State  Forward              95.2   \n",
       "\n",
       "        Height     Weight   MPG  DRB_perc  STL_perc  BLK_perc  DWS  DBPM  \\\n",
       "879  77.952756  207.23428  15.3      11.4       0.9       6.4  2.1   4.7   \n",
       "496  83.070866  209.43890  10.1      17.5       1.7       5.5  0.8   5.0   \n",
       "14   79.921260  244.71282  31.3      21.1       2.1       7.3  5.2   8.6   \n",
       "546  77.165354  202.82504  17.1      11.3       3.1       1.7  0.9   1.3   \n",
       "55   81.102362  233.68972   6.2      13.7       0.0       3.1  0.5   1.5   \n",
       "785  77.165354  209.43890  22.8      11.6       1.7       1.2  1.2   1.4   \n",
       "202  72.834646  224.87124   3.4      12.8       3.4       0.0  0.1   0.5   \n",
       "566  77.952756  194.00656  18.2      15.0       1.8       1.4  1.8   0.1   \n",
       "940  74.015748  200.62042   9.1      13.1       0.5       0.0  0.1   0.5   \n",
       "299  77.952756  198.41580   2.2      22.7       1.5       2.2  0.2   0.6   \n",
       "\n",
       "     label  \n",
       "879      2  \n",
       "496      2  \n",
       "14       1  \n",
       "546      1  \n",
       "55       0  \n",
       "785      1  \n",
       "202      0  \n",
       "566      1  \n",
       "940      0  \n",
       "299      2  "
      ]
     },
     "execution_count": 11,
     "metadata": {},
     "output_type": "execute_result"
    }
   ],
   "source": [
    "#Add a new column label with the clustering labels \n",
    "df[\"label\"] = kmeans.labels_\n",
    "df.sample(n=10, replace=False, random_state=0)  #sample of the data with the new label column"
   ]
  },
  {
   "cell_type": "code",
   "execution_count": 12,
   "metadata": {},
   "outputs": [
    {
     "data": {
      "text/plain": [
       "1    442\n",
       "2    272\n",
       "0    244\n",
       "Name: label, dtype: int64"
      ]
     },
     "execution_count": 12,
     "metadata": {},
     "output_type": "execute_result"
    }
   ],
   "source": [
    "#Show how many people are in each cluster\n",
    "df.label.value_counts()"
   ]
  },
  {
   "cell_type": "code",
   "execution_count": 13,
   "metadata": {},
   "outputs": [
    {
     "data": {
      "text/html": [
       "<div>\n",
       "<style scoped>\n",
       "    .dataframe tbody tr th:only-of-type {\n",
       "        vertical-align: middle;\n",
       "    }\n",
       "\n",
       "    .dataframe tbody tr th {\n",
       "        vertical-align: top;\n",
       "    }\n",
       "\n",
       "    .dataframe thead th {\n",
       "        text-align: right;\n",
       "    }\n",
       "</style>\n",
       "<table border=\"1\" class=\"dataframe\">\n",
       "  <thead>\n",
       "    <tr style=\"text-align: right;\">\n",
       "      <th></th>\n",
       "      <th>Defensive_Rating</th>\n",
       "      <th>Height</th>\n",
       "      <th>Weight</th>\n",
       "      <th>MPG</th>\n",
       "      <th>DRB_perc</th>\n",
       "      <th>STL_perc</th>\n",
       "      <th>BLK_perc</th>\n",
       "      <th>DWS</th>\n",
       "      <th>DBPM</th>\n",
       "    </tr>\n",
       "    <tr>\n",
       "      <th>label</th>\n",
       "      <th></th>\n",
       "      <th></th>\n",
       "      <th></th>\n",
       "      <th></th>\n",
       "      <th></th>\n",
       "      <th></th>\n",
       "      <th></th>\n",
       "      <th></th>\n",
       "      <th></th>\n",
       "    </tr>\n",
       "  </thead>\n",
       "  <tbody>\n",
       "    <tr>\n",
       "      <th>0</th>\n",
       "      <td>104.320082</td>\n",
       "      <td>76.268233</td>\n",
       "      <td>195.262471</td>\n",
       "      <td>6.735246</td>\n",
       "      <td>8.007377</td>\n",
       "      <td>1.296721</td>\n",
       "      <td>0.970492</td>\n",
       "      <td>0.268443</td>\n",
       "      <td>-0.721721</td>\n",
       "    </tr>\n",
       "    <tr>\n",
       "      <th>1</th>\n",
       "      <td>100.483032</td>\n",
       "      <td>76.842912</td>\n",
       "      <td>201.203996</td>\n",
       "      <td>25.307919</td>\n",
       "      <td>12.506109</td>\n",
       "      <td>1.915158</td>\n",
       "      <td>1.680543</td>\n",
       "      <td>1.915385</td>\n",
       "      <td>1.897059</td>\n",
       "    </tr>\n",
       "    <tr>\n",
       "      <th>2</th>\n",
       "      <td>94.856985</td>\n",
       "      <td>79.091883</td>\n",
       "      <td>212.486463</td>\n",
       "      <td>10.600735</td>\n",
       "      <td>17.190809</td>\n",
       "      <td>1.883088</td>\n",
       "      <td>3.569485</td>\n",
       "      <td>0.875368</td>\n",
       "      <td>3.048529</td>\n",
       "    </tr>\n",
       "  </tbody>\n",
       "</table>\n",
       "</div>"
      ],
      "text/plain": [
       "       Defensive_Rating     Height      Weight        MPG   DRB_perc  \\\n",
       "label                                                                  \n",
       "0            104.320082  76.268233  195.262471   6.735246   8.007377   \n",
       "1            100.483032  76.842912  201.203996  25.307919  12.506109   \n",
       "2             94.856985  79.091883  212.486463  10.600735  17.190809   \n",
       "\n",
       "       STL_perc  BLK_perc       DWS      DBPM  \n",
       "label                                          \n",
       "0      1.296721  0.970492  0.268443 -0.721721  \n",
       "1      1.915158  1.680543  1.915385  1.897059  \n",
       "2      1.883088  3.569485  0.875368  3.048529  "
      ]
     },
     "execution_count": 13,
     "metadata": {},
     "output_type": "execute_result"
    }
   ],
   "source": [
    "#Grouping the dataset by the labels and showing mean to determine which cluster has the best attributes\n",
    "df.groupby(\"label\").mean()"
   ]
  },
  {
   "cell_type": "code",
   "execution_count": 14,
   "metadata": {},
   "outputs": [
    {
     "data": {
      "text/html": [
       "<div>\n",
       "<style scoped>\n",
       "    .dataframe tbody tr th:only-of-type {\n",
       "        vertical-align: middle;\n",
       "    }\n",
       "\n",
       "    .dataframe tbody tr th {\n",
       "        vertical-align: top;\n",
       "    }\n",
       "\n",
       "    .dataframe thead th {\n",
       "        text-align: right;\n",
       "    }\n",
       "</style>\n",
       "<table border=\"1\" class=\"dataframe\">\n",
       "  <thead>\n",
       "    <tr style=\"text-align: right;\">\n",
       "      <th></th>\n",
       "      <th>Name</th>\n",
       "      <th>College</th>\n",
       "      <th>Position</th>\n",
       "      <th>Defensive_Rating</th>\n",
       "      <th>Height</th>\n",
       "      <th>Weight</th>\n",
       "      <th>MPG</th>\n",
       "      <th>DRB_perc</th>\n",
       "      <th>STL_perc</th>\n",
       "      <th>BLK_perc</th>\n",
       "      <th>DWS</th>\n",
       "      <th>DBPM</th>\n",
       "      <th>label</th>\n",
       "    </tr>\n",
       "  </thead>\n",
       "  <tbody>\n",
       "    <tr>\n",
       "      <th>474</th>\n",
       "      <td>Tyrell Terry</td>\n",
       "      <td>Stanford</td>\n",
       "      <td>Guard</td>\n",
       "      <td>85.2</td>\n",
       "      <td>72.834646</td>\n",
       "      <td>158.73264</td>\n",
       "      <td>31.9</td>\n",
       "      <td>16.3</td>\n",
       "      <td>2.9</td>\n",
       "      <td>0.0</td>\n",
       "      <td>1.7</td>\n",
       "      <td>3.3</td>\n",
       "      <td>1</td>\n",
       "    </tr>\n",
       "    <tr>\n",
       "      <th>448</th>\n",
       "      <td>Onyeka Okongwu</td>\n",
       "      <td>USC</td>\n",
       "      <td>Forward</td>\n",
       "      <td>86.5</td>\n",
       "      <td>81.102362</td>\n",
       "      <td>244.71282</td>\n",
       "      <td>29.8</td>\n",
       "      <td>20.1</td>\n",
       "      <td>2.0</td>\n",
       "      <td>11.2</td>\n",
       "      <td>1.6</td>\n",
       "      <td>8.2</td>\n",
       "      <td>1</td>\n",
       "    </tr>\n",
       "    <tr>\n",
       "      <th>627</th>\n",
       "      <td>Thomas Woldetensae</td>\n",
       "      <td>Virgina</td>\n",
       "      <td>Guard</td>\n",
       "      <td>87.2</td>\n",
       "      <td>77.165354</td>\n",
       "      <td>194.00656</td>\n",
       "      <td>24.7</td>\n",
       "      <td>10.1</td>\n",
       "      <td>1.8</td>\n",
       "      <td>1.5</td>\n",
       "      <td>1.2</td>\n",
       "      <td>4.0</td>\n",
       "      <td>1</td>\n",
       "    </tr>\n",
       "    <tr>\n",
       "      <th>14</th>\n",
       "      <td>Xavier Tillman</td>\n",
       "      <td>Michigan State</td>\n",
       "      <td>Forward</td>\n",
       "      <td>87.2</td>\n",
       "      <td>79.921260</td>\n",
       "      <td>244.71282</td>\n",
       "      <td>31.3</td>\n",
       "      <td>21.1</td>\n",
       "      <td>2.1</td>\n",
       "      <td>7.3</td>\n",
       "      <td>5.2</td>\n",
       "      <td>8.6</td>\n",
       "      <td>1</td>\n",
       "    </tr>\n",
       "    <tr>\n",
       "      <th>628</th>\n",
       "      <td>Casey Morsell</td>\n",
       "      <td>Virgina</td>\n",
       "      <td>Guard</td>\n",
       "      <td>88.8</td>\n",
       "      <td>74.803150</td>\n",
       "      <td>194.00656</td>\n",
       "      <td>24.7</td>\n",
       "      <td>7.7</td>\n",
       "      <td>1.7</td>\n",
       "      <td>0.9</td>\n",
       "      <td>1.2</td>\n",
       "      <td>3.2</td>\n",
       "      <td>1</td>\n",
       "    </tr>\n",
       "    <tr>\n",
       "      <th>244</th>\n",
       "      <td>T.J. Holyfield</td>\n",
       "      <td>Texas Tech</td>\n",
       "      <td>Forward</td>\n",
       "      <td>89.2</td>\n",
       "      <td>79.921260</td>\n",
       "      <td>224.87124</td>\n",
       "      <td>23.3</td>\n",
       "      <td>14.6</td>\n",
       "      <td>1.8</td>\n",
       "      <td>5.6</td>\n",
       "      <td>1.1</td>\n",
       "      <td>6.2</td>\n",
       "      <td>1</td>\n",
       "    </tr>\n",
       "    <tr>\n",
       "      <th>475</th>\n",
       "      <td>Spencer Jones</td>\n",
       "      <td>Stanford</td>\n",
       "      <td>Forward</td>\n",
       "      <td>89.3</td>\n",
       "      <td>79.133858</td>\n",
       "      <td>194.00656</td>\n",
       "      <td>29.2</td>\n",
       "      <td>11.2</td>\n",
       "      <td>1.2</td>\n",
       "      <td>3.9</td>\n",
       "      <td>1.4</td>\n",
       "      <td>3.4</td>\n",
       "      <td>1</td>\n",
       "    </tr>\n",
       "    <tr>\n",
       "      <th>219</th>\n",
       "      <td>Miles McBride</td>\n",
       "      <td>West Virgina</td>\n",
       "      <td>Guard</td>\n",
       "      <td>89.3</td>\n",
       "      <td>74.015748</td>\n",
       "      <td>194.00656</td>\n",
       "      <td>21.9</td>\n",
       "      <td>9.1</td>\n",
       "      <td>2.7</td>\n",
       "      <td>2.7</td>\n",
       "      <td>1.1</td>\n",
       "      <td>4.8</td>\n",
       "      <td>1</td>\n",
       "    </tr>\n",
       "    <tr>\n",
       "      <th>32</th>\n",
       "      <td>Akwasi Yeboah</td>\n",
       "      <td>Rutgers</td>\n",
       "      <td>Guard</td>\n",
       "      <td>89.7</td>\n",
       "      <td>77.952756</td>\n",
       "      <td>233.68972</td>\n",
       "      <td>22.6</td>\n",
       "      <td>15.5</td>\n",
       "      <td>1.7</td>\n",
       "      <td>1.9</td>\n",
       "      <td>1.1</td>\n",
       "      <td>2.8</td>\n",
       "      <td>1</td>\n",
       "    </tr>\n",
       "    <tr>\n",
       "      <th>241</th>\n",
       "      <td>Jahmi'us Ramsey</td>\n",
       "      <td>Texas Tech</td>\n",
       "      <td>Guard</td>\n",
       "      <td>89.7</td>\n",
       "      <td>75.984252</td>\n",
       "      <td>194.00656</td>\n",
       "      <td>30.7</td>\n",
       "      <td>13.1</td>\n",
       "      <td>2.7</td>\n",
       "      <td>2.6</td>\n",
       "      <td>1.2</td>\n",
       "      <td>3.7</td>\n",
       "      <td>1</td>\n",
       "    </tr>\n",
       "  </tbody>\n",
       "</table>\n",
       "</div>"
      ],
      "text/plain": [
       "                   Name         College Position  Defensive_Rating     Height  \\\n",
       "474        Tyrell Terry        Stanford    Guard              85.2  72.834646   \n",
       "448      Onyeka Okongwu             USC  Forward              86.5  81.102362   \n",
       "627  Thomas Woldetensae         Virgina    Guard              87.2  77.165354   \n",
       "14       Xavier Tillman  Michigan State  Forward              87.2  79.921260   \n",
       "628       Casey Morsell         Virgina    Guard              88.8  74.803150   \n",
       "244      T.J. Holyfield      Texas Tech  Forward              89.2  79.921260   \n",
       "475       Spencer Jones        Stanford  Forward              89.3  79.133858   \n",
       "219       Miles McBride    West Virgina    Guard              89.3  74.015748   \n",
       "32        Akwasi Yeboah         Rutgers    Guard              89.7  77.952756   \n",
       "241     Jahmi'us Ramsey      Texas Tech    Guard              89.7  75.984252   \n",
       "\n",
       "        Weight   MPG  DRB_perc  STL_perc  BLK_perc  DWS  DBPM  label  \n",
       "474  158.73264  31.9      16.3       2.9       0.0  1.7   3.3      1  \n",
       "448  244.71282  29.8      20.1       2.0      11.2  1.6   8.2      1  \n",
       "627  194.00656  24.7      10.1       1.8       1.5  1.2   4.0      1  \n",
       "14   244.71282  31.3      21.1       2.1       7.3  5.2   8.6      1  \n",
       "628  194.00656  24.7       7.7       1.7       0.9  1.2   3.2      1  \n",
       "244  224.87124  23.3      14.6       1.8       5.6  1.1   6.2      1  \n",
       "475  194.00656  29.2      11.2       1.2       3.9  1.4   3.4      1  \n",
       "219  194.00656  21.9       9.1       2.7       2.7  1.1   4.8      1  \n",
       "32   233.68972  22.6      15.5       1.7       1.9  1.1   2.8      1  \n",
       "241  194.00656  30.7      13.1       2.7       2.6  1.2   3.7      1  "
      ]
     },
     "execution_count": 14,
     "metadata": {},
     "output_type": "execute_result"
    }
   ],
   "source": [
    "#Chose cluster 1 based on their defensive rating and minutes per game\n",
    "Best_defenders = df[df.label == 1].sort_values(\"Defensive_Rating\")\n",
    "Best_defenders.head(10)"
   ]
  },
  {
   "cell_type": "markdown",
   "metadata": {},
   "source": [
    "According to my model and logic, the players above represent a cluster of elite defenders based on defensive rating, minutes per game, defensive rebound percentage, steal percentage, block percentage, defensive win shares, and defensive box plus/minus. \n",
    "\n",
    "I used K means clustering to cluster players into groups based on these defensive metrics above. I created 3 clusters and chose the cluster that had the lowest mean defensive rating with the most minutes per game.Unlike the statistic of defensive plus/minus, which measures the overall points scored on the court with a specific player in the game, defensive rating measures how many points are scored due to a specific player’s individual defensive mistake. Therefore, a player who plays more minutes with a low defensive rating would signify an elite wing defender.\n",
    "\n",
    "I sorted the list by defensive rating because it is a metric that most closely measures individual defense. According to my clustering model, one could make an argument for any of these players as the top wing defender in the NCAA. However, there are different players on this list. Onyeka Okongwu, Xavier Tillman, T.J. Holyfield, and Spencer Jones are all forwards who can play inside and out, but mainly play in the paint. On the other hand, there are players like Tyrell Terry, Casey Morsell, and Jahmi'us Ramsey who are young freshman who have had really nice starts to their college careers. Since my dataset only encompasses the 2019-2020 season these freshman do not have a lot of games played to determine how good of a defender they truly are, but they are off to a great start.\n",
    "\n",
    "There is not a perfect metric to measure how well someone plays defense. Clustering these players allowed myself to see which players share great defensive attributes, but the one player who I would say is the best wing defender in the college basketball is Xavier Tillman from Michigan State. He is a versatile defender who can switch onto guards, blocks shots (7.3% block percentage), has quick hands (2.1% steal percentage), grabs rebounds (21.1 defensive rebound percentage), and impacts each possesion on the defensive end of the floor (5.2 defensive win shares)."
   ]
  },
  {
   "cell_type": "markdown",
   "metadata": {},
   "source": [
    "## Evaluating Defensive Metrics"
   ]
  },
  {
   "cell_type": "markdown",
   "metadata": {},
   "source": [
    "Although the method I used is an unsupervised learning model with no dependent variable, I wanted to provide some analysis on which metrics are most effective at determining how well an individual plays defense. \n",
    "\n",
    "Note: This analysis will be on which features are significant in determining the different metrics I have used in my model."
   ]
  },
  {
   "cell_type": "markdown",
   "metadata": {},
   "source": [
    "### Feature Importance Analysis"
   ]
  },
  {
   "cell_type": "markdown",
   "metadata": {},
   "source": [
    "Feature importance analysis gives a score for each feature in the model. The higher the score the more important or relevant the feature is towards the target variable.\n",
    "\n",
    "Source: https://towardsdatascience.com/feature-selection-techniques-in-machine-learning-with-python-f24e7da3f36e"
   ]
  },
  {
   "cell_type": "code",
   "execution_count": 15,
   "metadata": {},
   "outputs": [
    {
     "name": "stdout",
     "output_type": "stream",
     "text": [
      "[0.14638089 0.16748417 0.15876309 0.13538359 0.12641423 0.26557403]\n"
     ]
    },
    {
     "data": {
      "image/png": "[encoded data removed]",
      "text/plain": [
       "<Figure size 432x288 with 1 Axes>"
      ]
     },
     "metadata": {
      "needs_background": "light"
     },
     "output_type": "display_data"
    }
   ],
   "source": [
    "binned_data = pd.cut(df.Defensive_Rating, 5, labels=[\"Elite\",\"Above Average\",\"Average\",\"Below Average\",\"Poor\"])\n",
    "\n",
    "X = df[[\"MPG\",\"DRB_perc\",\"STL_perc\",\"BLK_perc\",\"DWS\",\"DBPM\"]]\n",
    "y = binned_data\n",
    "\n",
    "model = ExtraTreesClassifier()\n",
    "model.fit(X,y)\n",
    "\n",
    "#use inbuilt class feature_importances of tree based classifiers\n",
    "print(model.feature_importances_) \n",
    "\n",
    "#plot graph of feature importances for better visualization\n",
    "feat_importances = pd.Series(model.feature_importances_, index=X.columns)\n",
    "feat_importances.nlargest(10).plot(kind='barh')\n",
    "plt.show()"
   ]
  },
  {
   "cell_type": "markdown",
   "metadata": {},
   "source": [
    "The target variable in this case is defensive rating. The variable with the highest score and most relevance towards defensive rating is defensive box plus/minus. This is intuitive because these variables are very closely related. Defensive rating attempts to measure an individuals defense and the points scored against the team based on that individual's defensive lapses. Defensive box plus/minus measures the points scored against the team with the individual player on the court per 100 possessions. In total, both of these metrics measure the points scored against the team with the individual player on the court.\n",
    "\n",
    "This is a relatively easy way to determine how effective an individual is at playing defense. If an individual has a low defensive rating and a low defensive box plus/minus it would signify that they do not have many individual defensive laspes and that they are able to help their teammates stop opposing teams from scoring."
   ]
  },
  {
   "cell_type": "code",
   "execution_count": 16,
   "metadata": {},
   "outputs": [
    {
     "name": "stdout",
     "output_type": "stream",
     "text": [
      "[0.278619   0.13585322 0.131034   0.13630656 0.16311585 0.15507137]\n"
     ]
    },
    {
     "data": {
      "image/png": "[encoded data removed]",
      "text/plain": [
       "<Figure size 432x288 with 1 Axes>"
      ]
     },
     "metadata": {
      "needs_background": "light"
     },
     "output_type": "display_data"
    }
   ],
   "source": [
    "binned_data2 = pd.cut(df.DWS, 5, labels=[\"Elite\",\"Above Average\",\"Average\",\"Below Average\",\"Poor\"])\n",
    "\n",
    "X = df[[\"MPG\",\"DRB_perc\",\"STL_perc\",\"BLK_perc\",\"DBPM\",\"Defensive_Rating\"]]\n",
    "y = binned_data2\n",
    "\n",
    "model = ExtraTreesClassifier()\n",
    "model.fit(X,y)\n",
    "\n",
    "#use inbuilt class feature_importances of tree based classifiers\n",
    "print(model.feature_importances_)\n",
    "\n",
    "#plot graph of feature importances for better visualization\n",
    "feat_importances = pd.Series(model.feature_importances_, index=X.columns)\n",
    "feat_importances.nlargest(10).plot(kind='barh')\n",
    "plt.show()"
   ]
  },
  {
   "cell_type": "markdown",
   "metadata": {},
   "source": [
    "The target variable in this case in defensive win shares. The variable with the highest score and most relevance to defensive win shares is minutes per game. This makes sense because for a player to have more of an impact on the outcome of a game the player must be on the floor.\n",
    "\n",
    "Defensive win shares has some merit in terms of effectively measuring defense. It attempts to calculate the marginal defensive value. Another way to think about it is how much better a team's defense is contributing to wins while the player is on the court. The more a defender is able to impact the game with blocks, steals, rebounds, contesting shots, etc., the better the team's defense will be and the more games they will win."
   ]
  },
  {
   "cell_type": "markdown",
   "metadata": {},
   "source": [
    "## Literature Review of Defensive Metrics"
   ]
  },
  {
   "cell_type": "markdown",
   "metadata": {},
   "source": [
    "As far as basketball analytics have come in trying to quanitify how effective an individual plays defense, there is still a long ways to go. The biggest limitation in quantifying how good someone is at defense is that it is hard to break down basketball plays into discrete events. For example, how can one measure how well a player fought through a screen to contest a three pointer? There is simply much more to playing great defense than just blocks, steals, and rebounds. This is where the measurements like defensive rating, defensive box plus/minus, defensive win shares, block percentage, steal percentage, and defensive rebound percentage struggle to explain why someone is a great defender. Also, these statistics are very much tied into how good your teammates are at defense as well, which complicates the matters even more. For example, in my clustering model you see multiple players from the same team in part because they have a really good defense overall. However, these statistics are effective at measuring the impact an individual player makes on his team.\n",
    "\n",
    "This is where player tracking data has helped try to explain why someone is an effective defender. With player tracking data, measurements like rim protecting data and how effective a defender is at contesting shots have helped put the pieces of determining productive individual defense together. However, there are some limitations with player tracking data. The game of basketball is still too complex for data to tell us how effective someone is at playing defense. For example, is the player who is physically closest to the shooter always responsible for them making or missing the shot? Or if a player gets beat off the dribble and there is no rotation to help whose fault is it? How could it be quantified that both had defensive laspes?\n",
    "\n",
    "Depending on how you want to view a defender and how effective they are at playing defense is based on which statistics and information you have avaiable to you. If you want to see how much they impact their overall team's defense then metrics like defensive box plus/minus and defensive rating will tell you the impact they have. If you want to determine why someone is a effective defender then using player tracking measurements will enable you to see what makes them a great defender. Both types of measurements should be taken cautiously because there is not a specific metric to determine how well someone plays defense. However, using these together can give a general manager a good idea of what type of defender they are.\n",
    "\n",
    "Sources:\n",
    "- http://www.basketballinsiders.com/nba-am-measuring-individual-defense/\n",
    "- https://fansided.com/2018/10/02/nylon-questions-individual-defensive-impact/\n",
    "- https://www.vice.com/en_us/article/aebkbz/why-an-all-in-one-defensive-stat-is-still-the-nbas-holy-grail\n"
   ]
  },
  {
   "cell_type": "code",
   "execution_count": null,
   "metadata": {},
   "outputs": [],
   "source": []
  }
 ],
 "metadata": {
  "kernelspec": {
   "display_name": "Python 3",
   "language": "python",
   "name": "python3"
  },
  "language_info": {
   "codemirror_mode": {
    "name": "ipython",
    "version": 3
   },
   "file_extension": ".py",
   "mimetype": "text/x-python",
   "name": "python",
   "nbconvert_exporter": "python",
   "pygments_lexer": "ipython3",
   "version": "3.7.3"
  }
 },
 "nbformat": 4,
 "nbformat_minor": 4
}
